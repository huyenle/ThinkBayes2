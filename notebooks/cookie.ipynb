{
 "cells": [
  {
   "cell_type": "markdown",
   "metadata": {},
   "source": [
    "# Think Bayes\n",
    "\n",
    "This notebook presents example code and exercise solutions for Think Bayes.\n",
    "\n",
    "Copyright 2018 Allen B. Downey\n",
    "\n",
    "MIT License: https://opensource.org/licenses/MIT"
   ]
  },
  {
   "cell_type": "code",
   "execution_count": 4,
   "metadata": {
    "jupyter": {
     "source_hidden": true
    }
   },
   "outputs": [],
   "source": [
    "import sys"
   ]
  },
  {
   "cell_type": "code",
   "execution_count": 5,
   "metadata": {
    "collapsed": true,
    "jupyter": {
     "outputs_hidden": true,
     "source_hidden": true
    }
   },
   "outputs": [
    {
     "data": {
      "text/plain": [
       "['/media/huyen/DATA4/My documents/Current works/ThinkBayes2/notebooks',\n",
       " '/usr/lib/python38.zip',\n",
       " '/usr/lib/python3.8',\n",
       " '/usr/lib/python3.8/lib-dynload',\n",
       " '',\n",
       " '/home/huyen/.local/share/virtualenvs/ThinkBayes2-zPCo6w7q/lib/python3.8/site-packages',\n",
       " '/home/huyen/.local/share/virtualenvs/ThinkBayes2-zPCo6w7q/lib/python3.8/site-packages/IPython/extensions',\n",
       " '/home/huyen/.ipython']"
      ]
     },
     "execution_count": 5,
     "metadata": {},
     "output_type": "execute_result"
    }
   ],
   "source": [
    "sys.path"
   ]
  },
  {
   "cell_type": "code",
   "execution_count": 86,
   "metadata": {},
   "outputs": [],
   "source": [
    "# Configure Jupyter so figures appear in the notebook\n",
    "%matplotlib inline\n",
    "\n",
    "# Configure Jupyter to display the assigned value after an assignment\n",
    "%config InteractiveShell.ast_node_interactivity='last_expr_or_assign'\n",
    "\n",
    "# import classes from thinkbayes2\n",
    "from thinkbayes2 import Hist, Pmf, Suite\n",
    "import thinkplot\n",
    "from matplotlib import pyplot"
   ]
  },
  {
   "cell_type": "markdown",
   "metadata": {},
   "source": [
    "## The cookie problem\n",
    "\n",
    "Here's the original statement of the cookie problem:\n",
    "\n",
    "> Suppose there are two bowls of cookies. Bowl 1 contains 30 vanilla cookies and 10 chocolate cookies. Bowl 2 contains 20 of each.\n",
    "\n",
    "> Now suppose you choose one of the bowls at random and, without looking, select a cookie at random. The cookie is vanilla. What is the probability that it came from Bowl 1?\n",
    "\n",
    "If we only draw one cookie, this problem is simple, but if we draw more than one cookie, there is a complication: do we replace the cookie after each draw, or not?\n",
    "\n",
    "If we replace the cookie, the proportion of vanilla and chocolate cookies stays the same, and we can perform multiple updates with the same likelihood function.\n",
    "\n",
    "If we *don't* replace the cookie, the proportions change and we have to keep track of the number of cookies in each bowl.\n",
    "\n",
    "**Exercise:**\n",
    "\n",
    "Modify the solution from the book to handle selection without replacement.\n",
    "\n",
    "Hint: Add instance variables to the `Cookie` class to represent the hypothetical state of the bowls, and modify the `Likelihood` function accordingly.\n",
    "\n",
    "To represent the state of a Bowl, you might want to use the `Hist` class from `thinkbayes2`."
   ]
  },
  {
   "cell_type": "markdown",
   "metadata": {},
   "source": [
    "#### 1. Solution for basic cookie problem"
   ]
  },
  {
   "cell_type": "code",
   "execution_count": 2,
   "metadata": {},
   "outputs": [
    {
     "data": {
      "text/plain": [
       "Pmf({})"
      ]
     },
     "execution_count": 2,
     "metadata": {},
     "output_type": "execute_result"
    }
   ],
   "source": [
    "pmf = Pmf()\n"
   ]
  },
  {
   "cell_type": "code",
   "execution_count": 3,
   "metadata": {},
   "outputs": [],
   "source": [
    "## Set Prior probability: \n",
    "pmf.Set(x = 'Bowl1', y = 0.5)\n",
    "pmf.Set(x = 'Bowl2', y = 0.5)"
   ]
  },
  {
   "cell_type": "code",
   "execution_count": 4,
   "metadata": {},
   "outputs": [
    {
     "data": {
      "text/plain": [
       "1.0"
      ]
     },
     "execution_count": 4,
     "metadata": {},
     "output_type": "execute_result"
    }
   ],
   "source": [
    "pmf.Total()"
   ]
  },
  {
   "cell_type": "code",
   "execution_count": 5,
   "metadata": {},
   "outputs": [],
   "source": [
    "# Multiply prior to likelihood as factor \n",
    "pmf.Mult('Bowl1', factor = 30/40)\n",
    "pmf.Mult('Bowl2', factor = 20/40)"
   ]
  },
  {
   "cell_type": "code",
   "execution_count": 6,
   "metadata": {},
   "outputs": [
    {
     "data": {
      "text/plain": [
       "{'Bowl1': 0.375, 'Bowl2': 0.25}"
      ]
     },
     "execution_count": 6,
     "metadata": {},
     "output_type": "execute_result"
    }
   ],
   "source": [
    "pmf.GetDict()"
   ]
  },
  {
   "cell_type": "code",
   "execution_count": 7,
   "metadata": {},
   "outputs": [
    {
     "data": {
      "text/plain": [
       "0.625"
      ]
     },
     "execution_count": 7,
     "metadata": {},
     "output_type": "execute_result"
    }
   ],
   "source": [
    "pmf.Total()"
   ]
  },
  {
   "cell_type": "code",
   "execution_count": 8,
   "metadata": {},
   "outputs": [
    {
     "data": {
      "text/plain": [
       "0.625"
      ]
     },
     "execution_count": 8,
     "metadata": {},
     "output_type": "execute_result"
    }
   ],
   "source": [
    "pmf.Normalize()"
   ]
  },
  {
   "cell_type": "code",
   "execution_count": 9,
   "metadata": {},
   "outputs": [
    {
     "data": {
      "text/plain": [
       "1.0"
      ]
     },
     "execution_count": 9,
     "metadata": {},
     "output_type": "execute_result"
    }
   ],
   "source": [
    "pmf.Total()"
   ]
  },
  {
   "cell_type": "code",
   "execution_count": 10,
   "metadata": {},
   "outputs": [
    {
     "data": {
      "text/plain": [
       "{'Bowl1': 0.6000000000000001, 'Bowl2': 0.4}"
      ]
     },
     "execution_count": 10,
     "metadata": {},
     "output_type": "execute_result"
    }
   ],
   "source": [
    "# Get poterior \n",
    "pmf.GetDict()"
   ]
  },
  {
   "cell_type": "markdown",
   "metadata": {},
   "source": [
    "#### 2. "
   ]
  },
  {
   "cell_type": "code",
   "execution_count": 11,
   "metadata": {},
   "outputs": [],
   "source": [
    "# Solution goes here\n",
    "class Cookie(Suite):\n",
    "    \"\"\"A map from string bowl ID to probablity.\"\"\"\n",
    "\n",
    "    def __init__(self, hypos):\n",
    "        \"\"\"Initialize self.\n",
    "\n",
    "        hypos: sequence of string bowl IDs\n",
    "        \"\"\"\n",
    "        Pmf.__init__(self)\n",
    "        for hypo in hypos:\n",
    "            self.Set(hypo, 1)\n",
    "        self.Normalize()\n",
    "\n",
    "    def Likelihood(self, data, hypo):\n",
    "        \"\"\"The likelihood of the data under the hypothesis.\n",
    "\n",
    "        data: string cookie type\n",
    "        hypo: dictionary of cookie type within a bowl\n",
    "        \"\"\"\n",
    "        likelihood = hypo[data]/hypo.Total()\n",
    "\n",
    "        if likelihood:\n",
    "            hypo[data] -=1\n",
    "        \n",
    "        return likelihood"
   ]
  },
  {
   "cell_type": "code",
   "execution_count": 41,
   "metadata": {},
   "outputs": [
    {
     "data": {
      "text/plain": [
       "Hist({'vanilla': 20, 'chocolate': 20})"
      ]
     },
     "execution_count": 41,
     "metadata": {},
     "output_type": "execute_result"
    }
   ],
   "source": [
    "# Solution goes here\n",
    "Bowl1 = Hist(dict(vanilla= 30, chocolate = 10))\n",
    "Bowl2 = Hist(dict(vanilla= 20, chocolate = 20))"
   ]
  },
  {
   "cell_type": "code",
   "execution_count": 42,
   "metadata": {},
   "outputs": [
    {
     "data": {
      "text/plain": [
       "30"
      ]
     },
     "execution_count": 42,
     "metadata": {},
     "output_type": "execute_result"
    }
   ],
   "source": [
    "Bowl1[\"vanilla\"]"
   ]
  },
  {
   "cell_type": "code",
   "execution_count": 43,
   "metadata": {},
   "outputs": [
    {
     "name": "stdout",
     "output_type": "stream",
     "text": [
      "After 1 vanilla\n",
      "Hist({'vanilla': 29, 'chocolate': 10}) 0.6000000000000001\n",
      "Hist({'vanilla': 19, 'chocolate': 20}) 0.4\n"
     ]
    }
   ],
   "source": [
    "suite = Cookie([Bowl1, Bowl2])\n",
    "\n",
    "print('After 1 vanilla')\n",
    "\n",
    "suite.Update('vanilla')\n",
    "\n",
    "for hypo, prob in suite.Items():\n",
    "    print(hypo, prob)\n"
   ]
  },
  {
   "cell_type": "code",
   "execution_count": 44,
   "metadata": {},
   "outputs": [
    {
     "data": {
      "text/plain": [
       "{Hist({'vanilla': 29, 'chocolate': 10}): 0.6000000000000001,\n",
       " Hist({'vanilla': 19, 'chocolate': 20}): 0.4}"
      ]
     },
     "execution_count": 44,
     "metadata": {},
     "output_type": "execute_result"
    }
   ],
   "source": [
    "suite.GetDict()"
   ]
  },
  {
   "cell_type": "code",
   "execution_count": 45,
   "metadata": {},
   "outputs": [
    {
     "name": "stdout",
     "output_type": "stream",
     "text": [
      "{Hist({'vanilla': 29, 'chocolate': 9}): 0.4285714285714286, Hist({'vanilla': 19, 'chocolate': 19}): 0.5714285714285714}\n",
      "{Hist({'vanilla': 29, 'chocolate': 8}): 0.2621359223300971, Hist({'vanilla': 19, 'chocolate': 18}): 0.7378640776699028}\n",
      "{Hist({'vanilla': 29, 'chocolate': 7}): 0.13636363636363635, Hist({'vanilla': 19, 'chocolate': 17}): 0.8636363636363635}\n",
      "{Hist({'vanilla': 29, 'chocolate': 6}): 0.06104651162790699, Hist({'vanilla': 19, 'chocolate': 16}): 0.9389534883720931}\n",
      "{Hist({'vanilla': 29, 'chocolate': 5}): 0.023800528900642243, Hist({'vanilla': 19, 'chocolate': 15}): 0.9761994710993579}\n",
      "{Hist({'vanilla': 29, 'chocolate': 4}): 0.008061420345489446, Hist({'vanilla': 19, 'chocolate': 14}): 0.9919385796545106}\n",
      "{Hist({'vanilla': 29, 'chocolate': 3}): 0.002316602316602318, Hist({'vanilla': 19, 'chocolate': 13}): 0.9976833976833978}\n",
      "{Hist({'vanilla': 29, 'chocolate': 2}): 0.0005355548943766738, Hist({'vanilla': 19, 'chocolate': 12}): 0.9994644451056234}\n",
      "{Hist({'vanilla': 29, 'chocolate': 1}): 8.929900282780178e-05, Hist({'vanilla': 19, 'chocolate': 11}): 0.9999107009971722}\n",
      "{Hist({'vanilla': 29, 'chocolate': 0}): 8.118750253710948e-06, Hist({'vanilla': 19, 'chocolate': 10}): 0.9999918812497463}\n",
      "{Hist({'vanilla': 29, 'chocolate': 0}): 0.0, Hist({'vanilla': 19, 'chocolate': 9}): 1.0}\n"
     ]
    }
   ],
   "source": [
    "for i in range(11):\n",
    "    suite.Update('chocolate')\n",
    "    print(suite.GetDict())"
   ]
  },
  {
   "cell_type": "markdown",
   "metadata": {},
   "source": [
    "####  2. Train problem\n",
    "Extend the Train class in the case of multiple locomotives and compare the results"
   ]
  },
  {
   "cell_type": "code",
   "execution_count": 76,
   "metadata": {},
   "outputs": [],
   "source": [
    "# Solution goes here\n",
    "def TotalTrains(N):\n",
    "    \"\"\" Return a total number of train \n",
    "    Assumption: There are N companies, each company take a different value from 1~N\n",
    "    \"\"\"\n",
    "    hypo = dict()\n",
    "    for i in range(1, N + 1):\n",
    "        hypo[i] = N - i + 1\n",
    "    return hypo\n",
    "\n",
    "class Train(Suite):\n",
    "    \"\"\"Represents hypotheses about how many train companies\n",
    "\n",
    "    The likelihood function is updated\n",
    "    \"\"\"\n",
    "    def Likelihood(self, data, hypo):\n",
    "        \"\"\"\n",
    "        data: the number of the observed trained\n",
    "        hypo: the hypothesis regarding companies and their number of trains\n",
    "        return: P(data|hypo) : probability of observing the train provided the number of company\n",
    "        \"\"\"\n",
    "        train_numbers = TotalTrains(hypo)\n",
    "        if (data in train_numbers):\n",
    "            return 1.0/train_numbers[data]\n",
    "        else:\n",
    "            return 0\n",
    "        "
   ]
  },
  {
   "cell_type": "code",
   "execution_count": 89,
   "metadata": {},
   "outputs": [
    {
     "data": {
      "text/plain": [
       "0.007424690060004179"
      ]
     },
     "execution_count": 89,
     "metadata": {},
     "output_type": "execute_result"
    }
   ],
   "source": [
    "# Solution goes here\n",
    "hypos = range(1, 1001)\n",
    "suite = Train(hypos)\n",
    "\n",
    "data = 60\n",
    "suite.Update(data)"
   ]
  },
  {
   "cell_type": "code",
   "execution_count": 100,
   "metadata": {},
   "outputs": [
    {
     "name": "stderr",
     "output_type": "stream",
     "text": [
      "No handles with labels found to put in legend.\n"
     ]
    },
    {
     "data": {
      "image/png": "[encoded data removed]",
      "text/plain": [
       "<Figure size 432x288 with 1 Axes>"
      ]
     },
     "metadata": {
      "needs_background": "light"
     },
     "output_type": "display_data"
    },
    {
     "data": {
      "text/plain": [
       "<Figure size 576x432 with 0 Axes>"
      ]
     },
     "metadata": {},
     "output_type": "display_data"
    }
   ],
   "source": [
    "# Solution goes here\n",
    "thinkplot.Pmf(suite)\n",
    "thinkplot.Show(xlabel = \"Number of company\", ylabel = 'PMF', xticks = [0, 60, 200], xlim = [0, 200], yscale = 'log')\n",
    "# pyplot.yscale('log')"
   ]
  },
  {
   "cell_type": "code",
   "execution_count": 92,
   "metadata": {},
   "outputs": [
    {
     "data": {
      "text/plain": [
       "185.73929718211954"
      ]
     },
     "execution_count": 92,
     "metadata": {},
     "output_type": "execute_result"
    }
   ],
   "source": [
    "suite.Mean()"
   ]
  },
  {
   "cell_type": "code",
   "execution_count": null,
   "metadata": {},
   "outputs": [],
   "source": [
    "Conclusion: Compared to one compaby case, it is more likely to observe the smaller number of companies"
   ]
  }
 ],
 "metadata": {
  "kernelspec": {
   "display_name": "Python 3",
   "language": "python",
   "name": "python3"
  },
  "language_info": {
   "codemirror_mode": {
    "name": "ipython",
    "version": 3
   },
   "file_extension": ".py",
   "mimetype": "text/x-python",
   "name": "python",
   "nbconvert_exporter": "python",
   "pygments_lexer": "ipython3",
   "version": "3.8.2"
  }
 },
 "nbformat": 4,
 "nbformat_minor": 4
}
